{
 "cells": [
  {
   "cell_type": "code",
   "execution_count": 1,
   "id": "f909dbd1-2992-4c6d-86c4-f5ad194cae80",
   "metadata": {},
   "outputs": [],
   "source": [
    "!pip3 install -q supervision"
   ]
  },
  {
   "cell_type": "code",
   "execution_count": 2,
   "id": "1ad72133-e909-4f47-ac8d-0006cb9c91c9",
   "metadata": {},
   "outputs": [],
   "source": [
    "!pip3 install -q git+https://github.com/THU-MIG/yolov10.git"
   ]
  },
  {
   "cell_type": "code",
   "execution_count": 3,
   "id": "4fb8a8ef-e256-4cfa-9bef-f48054806298",
   "metadata": {},
   "outputs": [
    {
     "name": "stdout",
     "output_type": "stream",
     "text": [
      "Traceback (most recent call last):\n",
      "  File \"/opt/anaconda3/bin/yolo\", line 5, in <module>\n",
      "    from ultralytics.cfg import entrypoint\n",
      "  File \"/opt/anaconda3/lib/python3.11/site-packages/ultralytics/__init__.py\", line 5, in <module>\n",
      "    from ultralytics.data.explorer.explorer import Explorer\n",
      "  File \"/opt/anaconda3/lib/python3.11/site-packages/ultralytics/data/explorer/explorer.py\", line 18, in <module>\n",
      "    from ultralytics.models.yolo.model import YOLO\n",
      "  File \"/opt/anaconda3/lib/python3.11/site-packages/ultralytics/models/__init__.py\", line 6, in <module>\n",
      "    from .yolov10 import YOLOv10\n",
      "  File \"/opt/anaconda3/lib/python3.11/site-packages/ultralytics/models/yolov10/__init__.py\", line 1, in <module>\n",
      "    from .model import YOLOv10\n",
      "  File \"/opt/anaconda3/lib/python3.11/site-packages/ultralytics/models/yolov10/model.py\", line 7, in <module>\n",
      "    from huggingface_hub import PyTorchModelHubMixin\n",
      "ModuleNotFoundError: No module named 'huggingface_hub'\n"
     ]
    }
   ],
   "source": [
    "yolo task=detect mode=train epochs=2 batch=16 plots=True model=yolov10n.pt data=config.yaml"
   ]
  },
  {
   "cell_type": "code",
   "execution_count": null,
   "id": "99efca60-fd74-40eb-a0fb-707674815f61",
   "metadata": {},
   "outputs": [],
   "source": []
  }
 ],
 "metadata": {
  "kernelspec": {
   "display_name": "Python 3 (ipykernel)",
   "language": "python",
   "name": "python3"
  },
  "language_info": {
   "codemirror_mode": {
    "name": "ipython",
    "version": 3
   },
   "file_extension": ".py",
   "mimetype": "text/x-python",
   "name": "python",
   "nbconvert_exporter": "python",
   "pygments_lexer": "ipython3",
   "version": "3.11.7"
  }
 },
 "nbformat": 4,
 "nbformat_minor": 5
}
